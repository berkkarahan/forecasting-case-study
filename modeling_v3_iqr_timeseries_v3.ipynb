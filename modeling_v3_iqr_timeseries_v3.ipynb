{
 "cells": [
  {
   "cell_type": "code",
   "execution_count": 1,
   "metadata": {},
   "outputs": [
    {
     "name": "stderr",
     "output_type": "stream",
     "text": [
      "/home/berkkarahan/anaconda3/envs/ml/lib/python3.6/importlib/_bootstrap.py:219: RuntimeWarning: numpy.dtype size changed, may indicate binary incompatibility. Expected 96, got 88\n",
      "  return f(*args, **kwds)\n",
      "/home/berkkarahan/anaconda3/envs/ml/lib/python3.6/importlib/_bootstrap.py:219: RuntimeWarning: numpy.dtype size changed, may indicate binary incompatibility. Expected 96, got 88\n",
      "  return f(*args, **kwds)\n",
      "/home/berkkarahan/anaconda3/envs/ml/lib/python3.6/importlib/_bootstrap.py:219: RuntimeWarning: numpy.dtype size changed, may indicate binary incompatibility. Expected 96, got 88\n",
      "  return f(*args, **kwds)\n",
      "/home/berkkarahan/anaconda3/envs/ml/lib/python3.6/importlib/_bootstrap.py:219: RuntimeWarning: numpy.dtype size changed, may indicate binary incompatibility. Expected 96, got 88\n",
      "  return f(*args, **kwds)\n",
      "/home/berkkarahan/anaconda3/envs/ml/lib/python3.6/importlib/_bootstrap.py:219: RuntimeWarning: numpy.dtype size changed, may indicate binary incompatibility. Expected 96, got 88\n",
      "  return f(*args, **kwds)\n",
      "/home/berkkarahan/anaconda3/envs/ml/lib/python3.6/importlib/_bootstrap.py:219: RuntimeWarning: numpy.dtype size changed, may indicate binary incompatibility. Expected 96, got 88\n",
      "  return f(*args, **kwds)\n",
      "/home/berkkarahan/anaconda3/envs/ml/lib/python3.6/site-packages/pmdarima/_config.py:75: UserWarning: The pmdarima cache (/home/berkkarahan/.pyramid-arima-cache) has grown to 59,791,588,453 bytes. Consider cleaning out old ARIMA models or increasing the max cache bytes with 'PMDARIMA_CACHE_WARN_SIZE' (currently 100,000,000 bytes) to avoid this warning in the future.\n",
      "  UserWarning)\n"
     ]
    }
   ],
   "source": [
    "import gc\n",
    "import pandas as pd\n",
    "import numpy as np\n",
    "import itertools\n",
    "from sklearn.model_selection import TimeSeriesSplit\n",
    "from sklearn.metrics import mean_squared_error\n",
    "from helpers.funcs import resample, single_ts_split, timeseries_train_test_split as TSSplit, fit_model_cv, plotCoefficients\n",
    "import matplotlib.pyplot as plt\n",
    "from statsmodels.tsa.arima_model import ARIMA\n",
    "from statsmodels.tsa.seasonal import seasonal_decompose\n",
    "from statsmodels.graphics.tsaplots import plot_acf, plot_pacf\n",
    "from pmdarima import auto_arima\n",
    "import pmdarima as pm\n",
    "from sklearn.metrics import mean_absolute_error, mean_squared_error, r2_score\n",
    "%matplotlib inline\n",
    "NB_SEED = 123123"
   ]
  },
  {
   "cell_type": "code",
   "execution_count": 2,
   "metadata": {},
   "outputs": [],
   "source": [
    "def setindexdatetime(df, index_col):\n",
    "    df[index_col] = pd.to_datetime(df[index_col])\n",
    "    df.set_index(index_col, inplace=True)\n",
    "    df = df.astype(np.float)\n",
    "    return df"
   ]
  },
  {
   "cell_type": "code",
   "execution_count": 3,
   "metadata": {},
   "outputs": [
    {
     "name": "stderr",
     "output_type": "stream",
     "text": [
      "/home/berkkarahan/Desktop/tupras/helpers/funcs.py:38: FutureWarning: pandas.tslib is deprecated and will be removed in a future version.\n",
      "You can access Timestamp as pandas.Timestamp\n",
      "  tseries.index[0], pd.tslib.Timestamp), 'Object must have a datetime-like index.'\n",
      "/home/berkkarahan/Desktop/tupras/helpers/funcs.py:72: FutureWarning: how in .resample() is deprecated\n",
      "the new syntax is .resample(...).mean()\n",
      "  tseries = tseries.resample(short_rate, how='mean').interpolate()\n",
      "/home/berkkarahan/Desktop/tupras/helpers/funcs.py:75: FutureWarning: how in .resample() is deprecated\n",
      "the new syntax is .resample(...).ffill()\n",
      "  tseries = tseries.resample(rate, how='ffill')\n"
     ]
    }
   ],
   "source": [
    "tr_val = setindexdatetime(pd.read_csv('valids/tr_val/tr_val.csv'),'Timestamp')\n",
    "tr_tr = setindexdatetime(pd.read_csv('valids/tr_val/tr_train.csv'),'Timestamp')\n",
    "ts = setindexdatetime(pd.read_csv('valids/v_ready_iqr_ts.csv'),'Timestamp')\n",
    "tr_tr.index.freq = '15T'\n",
    "tr_val.index.freq = '15T'\n",
    "ts = resample(ts)"
   ]
  },
  {
   "cell_type": "code",
   "execution_count": 4,
   "metadata": {},
   "outputs": [],
   "source": [
    "targ = tr_tr.Target.copy().values.reshape(-1,1)\n",
    "exog = tr_tr.drop('Target',1).values"
   ]
  },
  {
   "cell_type": "code",
   "execution_count": 5,
   "metadata": {},
   "outputs": [
    {
     "data": {
      "text/plain": [
       "(34272, 1)"
      ]
     },
     "execution_count": 5,
     "metadata": {},
     "output_type": "execute_result"
    }
   ],
   "source": [
    "targ.shape"
   ]
  },
  {
   "cell_type": "code",
   "execution_count": 6,
   "metadata": {},
   "outputs": [],
   "source": [
    "import copy\n",
    "from sklearn.model_selection import TimeSeriesSplit\n",
    "tscv = TimeSeriesSplit(n_splits=5)"
   ]
  },
  {
   "cell_type": "code",
   "execution_count": 9,
   "metadata": {},
   "outputs": [
    {
     "name": "stdout",
     "output_type": "stream",
     "text": [
      "0-th iteration started...\n",
      "Fit ARIMA: order=(1, 0, 3) seasonal_order=(2, 4, 3, 4); AIC=nan, BIC=nan, Fit time=nan seconds\n",
      "Fit ARIMA: order=(1, 0, 1) seasonal_order=(2, 4, 2, 4); AIC=nan, BIC=nan, Fit time=nan seconds\n",
      "Fit ARIMA: order=(1, 0, 2) seasonal_order=(2, 4, 2, 4); AIC=nan, BIC=nan, Fit time=nan seconds\n",
      "Fit ARIMA: order=(2, 0, 1) seasonal_order=(1, 4, 2, 4); AIC=nan, BIC=nan, Fit time=nan seconds\n",
      "Fit ARIMA: order=(2, 0, 3) seasonal_order=(2, 4, 3, 4); AIC=nan, BIC=nan, Fit time=nan seconds\n",
      "Fit ARIMA: order=(2, 0, 3) seasonal_order=(1, 4, 2, 4); AIC=nan, BIC=nan, Fit time=nan seconds\n",
      "Fit ARIMA: order=(2, 0, 3) seasonal_order=(1, 4, 1, 4); AIC=-13290.579, BIC=-13124.391, Fit time=195.175 seconds\n",
      "Fit ARIMA: order=(1, 0, 3) seasonal_order=(2, 4, 1, 4); AIC=-12228.616, BIC=-12062.428, Fit time=255.729 seconds\n",
      "Fit ARIMA: order=(3, 0, 1) seasonal_order=(3, 4, 1, 4); AIC=-11404.187, BIC=-11231.352, Fit time=294.080 seconds\n",
      "Fit ARIMA: order=(3, 0, 3) seasonal_order=(3, 4, 1, 4); AIC=-11997.771, BIC=-11811.641, Fit time=310.601 seconds\n",
      "Total fit time: 313.512 seconds\n",
      "1-th iteration started...\n",
      "Fit ARIMA: order=(2, 0, 3) seasonal_order=(2, 4, 3, 4); AIC=nan, BIC=nan, Fit time=nan seconds\n",
      "Fit ARIMA: order=(1, 0, 2) seasonal_order=(2, 4, 2, 4); AIC=nan, BIC=nan, Fit time=nan seconds\n",
      "Fit ARIMA: order=(2, 0, 3) seasonal_order=(1, 4, 2, 4); AIC=nan, BIC=nan, Fit time=nan seconds\n",
      "Fit ARIMA: order=(1, 0, 3) seasonal_order=(2, 4, 3, 4); AIC=nan, BIC=nan, Fit time=nan seconds\n",
      "Fit ARIMA: order=(1, 0, 1) seasonal_order=(2, 4, 2, 4); AIC=nan, BIC=nan, Fit time=nan seconds\n",
      "Fit ARIMA: order=(2, 0, 1) seasonal_order=(1, 4, 2, 4); AIC=nan, BIC=nan, Fit time=nan seconds\n",
      "Fit ARIMA: order=(2, 0, 3) seasonal_order=(1, 4, 1, 4); AIC=-25062.927, BIC=-24879.376, Fit time=282.408 seconds\n",
      "Fit ARIMA: order=(1, 0, 3) seasonal_order=(2, 4, 1, 4); AIC=-24749.582, BIC=-24566.030, Fit time=351.723 seconds\n",
      "Fit ARIMA: order=(3, 0, 1) seasonal_order=(3, 4, 1, 4); AIC=-22297.159, BIC=-22106.266, Fit time=480.365 seconds\n",
      "Fit ARIMA: order=(3, 0, 3) seasonal_order=(3, 4, 1, 4); AIC=-24663.699, BIC=-24458.121, Fit time=502.979 seconds\n",
      "Total fit time: 508.770 seconds\n",
      "2-th iteration started...\n",
      "Fit ARIMA: order=(2, 0, 3) seasonal_order=(2, 4, 3, 4); AIC=nan, BIC=nan, Fit time=nan seconds\n",
      "Fit ARIMA: order=(1, 0, 1) seasonal_order=(2, 4, 2, 4); AIC=nan, BIC=nan, Fit time=nan seconds\n",
      "Fit ARIMA: order=(1, 0, 3) seasonal_order=(2, 4, 3, 4); AIC=nan, BIC=nan, Fit time=nan seconds\n",
      "Fit ARIMA: order=(1, 0, 2) seasonal_order=(2, 4, 2, 4); AIC=nan, BIC=nan, Fit time=nan seconds\n",
      "Fit ARIMA: order=(2, 0, 1) seasonal_order=(1, 4, 2, 4); AIC=nan, BIC=nan, Fit time=nan seconds\n",
      "Fit ARIMA: order=(2, 0, 3) seasonal_order=(1, 4, 2, 4); AIC=nan, BIC=nan, Fit time=nan seconds\n",
      "Fit ARIMA: order=(2, 0, 3) seasonal_order=(1, 4, 1, 4); AIC=-41738.859, BIC=-41545.159, Fit time=401.654 seconds\n",
      "Fit ARIMA: order=(1, 0, 3) seasonal_order=(2, 4, 1, 4); AIC=-37626.239, BIC=-37432.539, Fit time=478.550 seconds\n",
      "Fit ARIMA: order=(3, 0, 1) seasonal_order=(3, 4, 1, 4); AIC=-33174.537, BIC=-32973.089, Fit time=625.699 seconds\n",
      "Fit ARIMA: order=(3, 0, 3) seasonal_order=(3, 4, 1, 4); AIC=-37156.476, BIC=-36939.532, Fit time=696.054 seconds\n",
      "Total fit time: 705.273 seconds\n",
      "3-th iteration started...\n",
      "Fit ARIMA: order=(2, 0, 3) seasonal_order=(2, 4, 3, 4); AIC=nan, BIC=nan, Fit time=nan seconds\n",
      "Fit ARIMA: order=(1, 0, 2) seasonal_order=(2, 4, 2, 4); AIC=nan, BIC=nan, Fit time=nan seconds\n",
      "Fit ARIMA: order=(1, 0, 3) seasonal_order=(2, 4, 3, 4); AIC=nan, BIC=nan, Fit time=nan seconds\n",
      "Fit ARIMA: order=(1, 0, 1) seasonal_order=(2, 4, 2, 4); AIC=nan, BIC=nan, Fit time=nan seconds\n",
      "Fit ARIMA: order=(2, 0, 1) seasonal_order=(1, 4, 2, 4); AIC=nan, BIC=nan, Fit time=nan seconds\n",
      "Fit ARIMA: order=(2, 0, 3) seasonal_order=(1, 4, 2, 4); AIC=nan, BIC=nan, Fit time=nan seconds\n",
      "Fit ARIMA: order=(3, 0, 1) seasonal_order=(3, 4, 1, 4); AIC=nan, BIC=nan, Fit time=nan seconds\n",
      "Fit ARIMA: order=(2, 0, 3) seasonal_order=(1, 4, 1, 4); AIC=-25137.335, BIC=-24936.438, Fit time=378.174 seconds\n",
      "Fit ARIMA: order=(1, 0, 3) seasonal_order=(2, 4, 1, 4); AIC=-18200.447, BIC=-17999.549, Fit time=525.736 seconds\n",
      "Fit ARIMA: order=(3, 0, 3) seasonal_order=(3, 4, 1, 4); AIC=-18885.908, BIC=-18660.902, Fit time=732.616 seconds\n",
      "Total fit time: 746.520 seconds\n",
      "4-th iteration started...\n",
      "Fit ARIMA: order=(1, 0, 2) seasonal_order=(2, 4, 2, 4); AIC=nan, BIC=nan, Fit time=nan seconds\n",
      "Fit ARIMA: order=(1, 0, 1) seasonal_order=(2, 4, 2, 4); AIC=nan, BIC=nan, Fit time=nan seconds\n",
      "Fit ARIMA: order=(2, 0, 3) seasonal_order=(2, 4, 3, 4); AIC=nan, BIC=nan, Fit time=nan seconds\n",
      "Fit ARIMA: order=(2, 0, 1) seasonal_order=(1, 4, 2, 4); AIC=nan, BIC=nan, Fit time=nan seconds\n",
      "Fit ARIMA: order=(2, 0, 3) seasonal_order=(1, 4, 2, 4); AIC=nan, BIC=nan, Fit time=nan seconds\n",
      "Fit ARIMA: order=(1, 0, 3) seasonal_order=(2, 4, 3, 4); AIC=nan, BIC=nan, Fit time=nan seconds\n",
      "Fit ARIMA: order=(2, 0, 3) seasonal_order=(1, 4, 1, 4); AIC=-33767.242, BIC=-33560.762, Fit time=500.499 seconds\n",
      "Fit ARIMA: order=(1, 0, 3) seasonal_order=(2, 4, 1, 4); AIC=-26796.773, BIC=-26590.293, Fit time=659.145 seconds\n",
      "Fit ARIMA: order=(3, 0, 1) seasonal_order=(3, 4, 1, 4); AIC=-18974.128, BIC=-18759.389, Fit time=911.769 seconds\n",
      "Fit ARIMA: order=(3, 0, 3) seasonal_order=(3, 4, 1, 4); AIC=-27548.204, BIC=-27316.946, Fit time=981.620 seconds\n"
     ]
    },
    {
     "ename": "MaybeEncodingError",
     "evalue": "Error sending result: '[ARIMA(callback=None, disp=0, maxiter=50, method=None, order=(3, 0, 3),\n   out_of_sample_size=0, scoring='mse', scoring_args={},\n   seasonal_order=(3, 4, 1, 4), solver='lbfgs', start_params=None,\n   suppress_warnings=True, transparams=True, trend='c')]'. Reason: 'error(\"'i' format requires -2147483648 <= number <= 2147483647\",)'",
     "output_type": "error",
     "traceback": [
      "\u001b[0;31m---------------------------------------------------------------------------\u001b[0m",
      "\u001b[0;31mMaybeEncodingError\u001b[0m                        Traceback (most recent call last)",
      "\u001b[0;32m<ipython-input-9-fd982c4515ee>\u001b[0m in \u001b[0;36m<module>\u001b[0;34m\u001b[0m\n\u001b[1;32m     23\u001b[0m                 \u001b[0mrandom\u001b[0m\u001b[0;34m=\u001b[0m\u001b[0;32mTrue\u001b[0m\u001b[0;34m,\u001b[0m\u001b[0;34m\u001b[0m\u001b[0m\n\u001b[1;32m     24\u001b[0m                 \u001b[0mn_jobs\u001b[0m\u001b[0;34m=\u001b[0m\u001b[0;34m-\u001b[0m\u001b[0;36m1\u001b[0m\u001b[0;34m,\u001b[0m\u001b[0;34m\u001b[0m\u001b[0m\n\u001b[0;32m---> 25\u001b[0;31m                 random_state=NB_SEED)\n\u001b[0m\u001b[1;32m     26\u001b[0m     \u001b[0mc_list\u001b[0m\u001b[0;34m.\u001b[0m\u001b[0mappend\u001b[0m\u001b[0;34m(\u001b[0m\u001b[0mrf\u001b[0m\u001b[0;34m)\u001b[0m\u001b[0;34m\u001b[0m\u001b[0m\n\u001b[1;32m     27\u001b[0m \u001b[0;34m\u001b[0m\u001b[0m\n",
      "\u001b[0;32m~/anaconda3/envs/ml/lib/python3.6/site-packages/pmdarima/arima/auto.py\u001b[0m in \u001b[0;36mauto_arima\u001b[0;34m(y, exogenous, start_p, d, start_q, max_p, max_d, max_q, start_P, D, start_Q, max_P, max_D, max_Q, max_order, m, seasonal, stationary, information_criterion, alpha, test, seasonal_test, stepwise, n_jobs, start_params, trend, method, transparams, solver, maxiter, disp, callback, offset_test_args, seasonal_test_args, suppress_warnings, error_action, trace, random, random_state, n_fits, return_valid_fits, out_of_sample_size, scoring, scoring_args, **fit_args)\u001b[0m\n\u001b[1;32m    606\u001b[0m                                 \u001b[0mout_of_sample_size\u001b[0m\u001b[0;34m=\u001b[0m\u001b[0mout_of_sample_size\u001b[0m\u001b[0;34m,\u001b[0m\u001b[0;34m\u001b[0m\u001b[0m\n\u001b[1;32m    607\u001b[0m                                 scoring=scoring, scoring_args=scoring_args)\n\u001b[0;32m--> 608\u001b[0;31m             for order, seasonal_order in gen)\n\u001b[0m\u001b[1;32m    609\u001b[0m \u001b[0;34m\u001b[0m\u001b[0m\n\u001b[1;32m    610\u001b[0m     \u001b[0;31m# otherwise, we're fitting the stepwise algorithm...\u001b[0m\u001b[0;34m\u001b[0m\u001b[0;34m\u001b[0m\u001b[0m\n",
      "\u001b[0;32m~/anaconda3/envs/ml/lib/python3.6/site-packages/sklearn/externals/joblib/parallel.py\u001b[0m in \u001b[0;36m__call__\u001b[0;34m(self, iterable)\u001b[0m\n\u001b[1;32m    787\u001b[0m                 \u001b[0;31m# consumption.\u001b[0m\u001b[0;34m\u001b[0m\u001b[0;34m\u001b[0m\u001b[0m\n\u001b[1;32m    788\u001b[0m                 \u001b[0mself\u001b[0m\u001b[0;34m.\u001b[0m\u001b[0m_iterating\u001b[0m \u001b[0;34m=\u001b[0m \u001b[0;32mFalse\u001b[0m\u001b[0;34m\u001b[0m\u001b[0m\n\u001b[0;32m--> 789\u001b[0;31m             \u001b[0mself\u001b[0m\u001b[0;34m.\u001b[0m\u001b[0mretrieve\u001b[0m\u001b[0;34m(\u001b[0m\u001b[0;34m)\u001b[0m\u001b[0;34m\u001b[0m\u001b[0m\n\u001b[0m\u001b[1;32m    790\u001b[0m             \u001b[0;31m# Make sure that we get a last message telling us we are done\u001b[0m\u001b[0;34m\u001b[0m\u001b[0;34m\u001b[0m\u001b[0m\n\u001b[1;32m    791\u001b[0m             \u001b[0melapsed_time\u001b[0m \u001b[0;34m=\u001b[0m \u001b[0mtime\u001b[0m\u001b[0;34m.\u001b[0m\u001b[0mtime\u001b[0m\u001b[0;34m(\u001b[0m\u001b[0;34m)\u001b[0m \u001b[0;34m-\u001b[0m \u001b[0mself\u001b[0m\u001b[0;34m.\u001b[0m\u001b[0m_start_time\u001b[0m\u001b[0;34m\u001b[0m\u001b[0m\n",
      "\u001b[0;32m~/anaconda3/envs/ml/lib/python3.6/site-packages/sklearn/externals/joblib/parallel.py\u001b[0m in \u001b[0;36mretrieve\u001b[0;34m(self)\u001b[0m\n\u001b[1;32m    697\u001b[0m             \u001b[0;32mtry\u001b[0m\u001b[0;34m:\u001b[0m\u001b[0;34m\u001b[0m\u001b[0m\n\u001b[1;32m    698\u001b[0m                 \u001b[0;32mif\u001b[0m \u001b[0mgetattr\u001b[0m\u001b[0;34m(\u001b[0m\u001b[0mself\u001b[0m\u001b[0;34m.\u001b[0m\u001b[0m_backend\u001b[0m\u001b[0;34m,\u001b[0m \u001b[0;34m'supports_timeout'\u001b[0m\u001b[0;34m,\u001b[0m \u001b[0;32mFalse\u001b[0m\u001b[0;34m)\u001b[0m\u001b[0;34m:\u001b[0m\u001b[0;34m\u001b[0m\u001b[0m\n\u001b[0;32m--> 699\u001b[0;31m                     \u001b[0mself\u001b[0m\u001b[0;34m.\u001b[0m\u001b[0m_output\u001b[0m\u001b[0;34m.\u001b[0m\u001b[0mextend\u001b[0m\u001b[0;34m(\u001b[0m\u001b[0mjob\u001b[0m\u001b[0;34m.\u001b[0m\u001b[0mget\u001b[0m\u001b[0;34m(\u001b[0m\u001b[0mtimeout\u001b[0m\u001b[0;34m=\u001b[0m\u001b[0mself\u001b[0m\u001b[0;34m.\u001b[0m\u001b[0mtimeout\u001b[0m\u001b[0;34m)\u001b[0m\u001b[0;34m)\u001b[0m\u001b[0;34m\u001b[0m\u001b[0m\n\u001b[0m\u001b[1;32m    700\u001b[0m                 \u001b[0;32melse\u001b[0m\u001b[0;34m:\u001b[0m\u001b[0;34m\u001b[0m\u001b[0m\n\u001b[1;32m    701\u001b[0m                     \u001b[0mself\u001b[0m\u001b[0;34m.\u001b[0m\u001b[0m_output\u001b[0m\u001b[0;34m.\u001b[0m\u001b[0mextend\u001b[0m\u001b[0;34m(\u001b[0m\u001b[0mjob\u001b[0m\u001b[0;34m.\u001b[0m\u001b[0mget\u001b[0m\u001b[0;34m(\u001b[0m\u001b[0;34m)\u001b[0m\u001b[0;34m)\u001b[0m\u001b[0;34m\u001b[0m\u001b[0m\n",
      "\u001b[0;32m~/anaconda3/envs/ml/lib/python3.6/multiprocessing/pool.py\u001b[0m in \u001b[0;36mget\u001b[0;34m(self, timeout)\u001b[0m\n\u001b[1;32m    642\u001b[0m             \u001b[0;32mreturn\u001b[0m \u001b[0mself\u001b[0m\u001b[0;34m.\u001b[0m\u001b[0m_value\u001b[0m\u001b[0;34m\u001b[0m\u001b[0m\n\u001b[1;32m    643\u001b[0m         \u001b[0;32melse\u001b[0m\u001b[0;34m:\u001b[0m\u001b[0;34m\u001b[0m\u001b[0m\n\u001b[0;32m--> 644\u001b[0;31m             \u001b[0;32mraise\u001b[0m \u001b[0mself\u001b[0m\u001b[0;34m.\u001b[0m\u001b[0m_value\u001b[0m\u001b[0;34m\u001b[0m\u001b[0m\n\u001b[0m\u001b[1;32m    645\u001b[0m \u001b[0;34m\u001b[0m\u001b[0m\n\u001b[1;32m    646\u001b[0m     \u001b[0;32mdef\u001b[0m \u001b[0m_set\u001b[0m\u001b[0;34m(\u001b[0m\u001b[0mself\u001b[0m\u001b[0;34m,\u001b[0m \u001b[0mi\u001b[0m\u001b[0;34m,\u001b[0m \u001b[0mobj\u001b[0m\u001b[0;34m)\u001b[0m\u001b[0;34m:\u001b[0m\u001b[0;34m\u001b[0m\u001b[0m\n",
      "\u001b[0;31mMaybeEncodingError\u001b[0m: Error sending result: '[ARIMA(callback=None, disp=0, maxiter=50, method=None, order=(3, 0, 3),\n   out_of_sample_size=0, scoring='mse', scoring_args={},\n   seasonal_order=(3, 4, 1, 4), solver='lbfgs', start_params=None,\n   suppress_warnings=True, transparams=True, trend='c')]'. Reason: 'error(\"'i' format requires -2147483648 <= number <= 2147483647\",)'"
     ]
    }
   ],
   "source": [
    "c_list=[]\n",
    "for i, tpl in enumerate(tscv.split(tr_tr)):\n",
    "    print(str(i) + \"-th iteration started...\")\n",
    "    tr_i = tpl[0]\n",
    "    y_ = targ[tr_i,:]\n",
    "    exog_ = exog[tr_i,:]\n",
    "    rf = auto_arima(y_,\n",
    "                exogenous = exog_,\n",
    "                start_p=1,\n",
    "                start_q=1,\n",
    "                max_p=3,\n",
    "                max_q=3,\n",
    "                seasonal=True,\n",
    "                max_P=3,\n",
    "                max_Q=3,\n",
    "                D = 4,\n",
    "                max_D = 4,\n",
    "                m = 4,\n",
    "                trace=True,\n",
    "                error_action='ignore',\n",
    "                suppress_warnings=True,\n",
    "                stepwise=False,\n",
    "                random=True,\n",
    "                n_jobs=-1,\n",
    "                random_state=NB_SEED)\n",
    "    c_list.append(rf)\n",
    "    \n",
    "    "
   ]
  },
  {
   "cell_type": "code",
   "execution_count": 10,
   "metadata": {},
   "outputs": [],
   "source": [
    "from sklearn.externals import joblib\n",
    "import pickle\n",
    "for i, mdl in enumerate(c_list):\n",
    "    joblib.dump(mdl,'arimaseries/arima_exog_'+str(i)+'_.pkl')"
   ]
  },
  {
   "cell_type": "code",
   "execution_count": 12,
   "metadata": {},
   "outputs": [],
   "source": [
    "cvpreds_tr = np.empty(shape=(tr_tr.shape[0],len(c_list)))\n",
    "cvpreds_val = np.empty(shape=(tr_val.shape[0],len(c_list)))\n",
    "for i, amdl in enumerate(c_list):\n",
    "    y_train = amdl.predict(n_periods=tr_tr.shape[0], exogenous=tr_tr.drop('Target',1).values)\n",
    "    y_pred = amdl.predict(n_periods=tr_val.shape[0], exogenous=tr_val.drop('Target',1).values)\n",
    "    cvpreds_tr[:,i] = y_train\n",
    "    cvpreds_val[:,i] = y_pred\n",
    "    \n"
   ]
  },
  {
   "cell_type": "code",
   "execution_count": 13,
   "metadata": {},
   "outputs": [],
   "source": [
    "cvpreds_tr = np.mean(cvpreds_tr, axis=1)\n",
    "cvpreds_val = np.mean(cvpreds_val, axis=1)"
   ]
  },
  {
   "cell_type": "code",
   "execution_count": 14,
   "metadata": {},
   "outputs": [],
   "source": [
    "cvpreds_tr = pd.Series(data=cvpreds_tr, index=tr_tr.index)\n",
    "cvpreds_val = pd.Series(data=cvpreds_val, index=tr_val.index)"
   ]
  },
  {
   "cell_type": "code",
   "execution_count": 16,
   "metadata": {},
   "outputs": [
    {
     "data": {
      "text/plain": [
       "<matplotlib.axes._subplots.AxesSubplot at 0x7fa6a2a0a7f0>"
      ]
     },
     "execution_count": 16,
     "metadata": {},
     "output_type": "execute_result"
    },
    {
     "data": {
      "image/png": "[encoded data removed]",
      "text/plain": [
       "<Figure size 432x288 with 1 Axes>"
      ]
     },
     "metadata": {
      "needs_background": "light"
     },
     "output_type": "display_data"
    }
   ],
   "source": [
    "tr_val.Target.plot()\n",
    "cvpreds_val.plot()"
   ]
  },
  {
   "cell_type": "code",
   "execution_count": 20,
   "metadata": {},
   "outputs": [
    {
     "data": {
      "text/plain": [
       "Timestamp\n",
       "2016-08-08 16:00:00    4.260426e+02\n",
       "2016-08-08 16:15:00    4.263298e+02\n",
       "2016-08-08 16:30:00    4.266338e+02\n",
       "2016-08-08 16:45:00    4.269352e+02\n",
       "2016-08-08 17:00:00    4.273753e+02\n",
       "2016-08-08 17:15:00    4.277279e+02\n",
       "2016-08-08 17:30:00    4.281090e+02\n",
       "2016-08-08 17:45:00    4.284819e+02\n",
       "2016-08-08 18:00:00    4.289068e+02\n",
       "2016-08-08 18:15:00    4.291758e+02\n",
       "2016-08-08 18:30:00    4.294875e+02\n",
       "2016-08-08 18:45:00    4.297829e+02\n",
       "2016-08-08 19:00:00    4.301553e+02\n",
       "2016-08-08 19:15:00    4.302966e+02\n",
       "2016-08-08 19:30:00    4.305026e+02\n",
       "2016-08-08 19:45:00    4.306843e+02\n",
       "2016-08-08 20:00:00    4.309752e+02\n",
       "2016-08-08 20:15:00    4.309488e+02\n",
       "2016-08-08 20:30:00    4.310156e+02\n",
       "2016-08-08 20:45:00    4.310479e+02\n",
       "2016-08-08 21:00:00    4.312292e+02\n",
       "2016-08-08 21:15:00    4.309953e+02\n",
       "2016-08-08 21:30:00    4.308900e+02\n",
       "2016-08-08 21:45:00    4.307379e+02\n",
       "2016-08-08 22:00:00    4.307826e+02\n",
       "2016-08-08 22:15:00    4.303016e+02\n",
       "2016-08-08 22:30:00    4.299922e+02\n",
       "2016-08-08 22:45:00    4.296206e+02\n",
       "2016-08-08 23:00:00    4.295022e+02\n",
       "2016-08-08 23:15:00    4.287348e+02\n",
       "                           ...     \n",
       "2017-07-31 08:30:00   -6.802655e+10\n",
       "2017-07-31 08:45:00   -6.805559e+10\n",
       "2017-07-31 09:00:00   -6.802970e+10\n",
       "2017-07-31 09:15:00   -6.806970e+10\n",
       "2017-07-31 09:30:00   -6.805681e+10\n",
       "2017-07-31 09:45:00   -6.808587e+10\n",
       "2017-07-31 10:00:00   -6.805997e+10\n",
       "2017-07-31 10:15:00   -6.809998e+10\n",
       "2017-07-31 10:30:00   -6.808709e+10\n",
       "2017-07-31 10:45:00   -6.811615e+10\n",
       "2017-07-31 11:00:00   -6.809025e+10\n",
       "2017-07-31 11:15:00   -6.813028e+10\n",
       "2017-07-31 11:30:00   -6.811738e+10\n",
       "2017-07-31 11:45:00   -6.814645e+10\n",
       "2017-07-31 12:00:00   -6.812054e+10\n",
       "2017-07-31 12:15:00   -6.816058e+10\n",
       "2017-07-31 12:30:00   -6.814768e+10\n",
       "2017-07-31 12:45:00   -6.817676e+10\n",
       "2017-07-31 13:00:00   -6.815084e+10\n",
       "2017-07-31 13:15:00   -6.819090e+10\n",
       "2017-07-31 13:30:00   -6.817799e+10\n",
       "2017-07-31 13:45:00   -6.820708e+10\n",
       "2017-07-31 14:00:00   -6.818115e+10\n",
       "2017-07-31 14:15:00   -6.822122e+10\n",
       "2017-07-31 14:30:00   -6.820831e+10\n",
       "2017-07-31 14:45:00   -6.823741e+10\n",
       "2017-07-31 15:00:00   -6.821147e+10\n",
       "2017-07-31 15:15:00   -6.825156e+10\n",
       "2017-07-31 15:30:00   -6.823864e+10\n",
       "2017-07-31 15:45:00   -6.826775e+10\n",
       "Freq: 15T, Length: 34272, dtype: float64"
      ]
     },
     "execution_count": 20,
     "metadata": {},
     "output_type": "execute_result"
    }
   ],
   "source": [
    "cvpreds_tr"
   ]
  },
  {
   "cell_type": "code",
   "execution_count": 17,
   "metadata": {},
   "outputs": [],
   "source": [
    "def print_metric(metrictr, metricts ,mname):\n",
    "    print(mname +' train: ' + str(metrictr) + ' test: ' + str(metricts))"
   ]
  },
  {
   "cell_type": "code",
   "execution_count": 22,
   "metadata": {},
   "outputs": [],
   "source": [
    "#metrics train\n",
    "mse_tr = mean_squared_error(tr_tr.Target,cvpreds_tr)\n",
    "rmse_tr = np.sqrt(mse_tr)\n",
    "mae_tr = mean_absolute_error(tr_tr.Target,cvpreds_tr)\n",
    "r2_tr = r2_score(tr_tr.Target,cvpreds_tr)\n",
    "#metrics test\n",
    "mse_ts = mean_squared_error(tr_val.Target,cvpreds_val)\n",
    "rmse_ts = np.sqrt(mse_ts)\n",
    "mae_ts = mean_absolute_error(tr_val.Target,cvpreds_val)\n",
    "r2_ts = r2_score(tr_val.Target,cvpreds_val)"
   ]
  },
  {
   "cell_type": "code",
   "execution_count": 23,
   "metadata": {},
   "outputs": [
    {
     "name": "stdout",
     "output_type": "stream",
     "text": [
      "MSE train: 5.431299838232005e+20 test: 1.0158044356890136e+18\n"
     ]
    }
   ],
   "source": [
    "#mse\n",
    "print_metric(mse_tr,mse_ts,'MSE')"
   ]
  },
  {
   "cell_type": "code",
   "execution_count": 24,
   "metadata": {},
   "outputs": [
    {
     "name": "stdout",
     "output_type": "stream",
     "text": [
      "RMSE train: 23305149298.453346 test: 1007871239.637789\n"
     ]
    }
   ],
   "source": [
    "#rmse\n",
    "print_metric(rmse_tr,rmse_ts,'RMSE')"
   ]
  },
  {
   "cell_type": "code",
   "execution_count": 25,
   "metadata": {},
   "outputs": [
    {
     "name": "stdout",
     "output_type": "stream",
     "text": [
      "14304922457.288055 629770337.5864949 MAE\n"
     ]
    }
   ],
   "source": [
    "#mae\n",
    "print(mae_tr,mae_ts,'MAE')"
   ]
  },
  {
   "cell_type": "code",
   "execution_count": 26,
   "metadata": {},
   "outputs": [
    {
     "name": "stdout",
     "output_type": "stream",
     "text": [
      "-2.0096271949470147e+19 -2.847364700112643e+16 R2\n"
     ]
    }
   ],
   "source": [
    "#r2\n",
    "print(r2_tr,r2_ts,'R2')"
   ]
  },
  {
   "cell_type": "code",
   "execution_count": null,
   "metadata": {},
   "outputs": [],
   "source": []
  }
 ],
 "metadata": {
  "kernelspec": {
   "display_name": "ml",
   "language": "python",
   "name": "ml"
  },
  "language_info": {
   "codemirror_mode": {
    "name": "ipython",
    "version": 3
   },
   "file_extension": ".py",
   "mimetype": "text/x-python",
   "name": "python",
   "nbconvert_exporter": "python",
   "pygments_lexer": "ipython3",
   "version": "3.6.6"
  }
 },
 "nbformat": 4,
 "nbformat_minor": 2
}
